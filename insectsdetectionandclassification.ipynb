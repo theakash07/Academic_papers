{
  "nbformat": 4,
  "nbformat_minor": 0,
  "metadata": {
    "colab": {
      "provenance": [],
      "authorship_tag": "ABX9TyPIj0Up9+R9QZMYMkvuR4LW",
      "include_colab_link": true
    },
    "kernelspec": {
      "name": "python3",
      "display_name": "Python 3"
    },
    "language_info": {
      "name": "python"
    }
  },
  "cells": [
    {
      "cell_type": "markdown",
      "metadata": {
        "id": "view-in-github",
        "colab_type": "text"
      },
      "source": [
        "<a href=\"https://colab.research.google.com/github/theakash07/Academic_papers/blob/main/insectsdetectionandclassification.ipynb\" target=\"_parent\"><img src=\"https://colab.research.google.com/assets/colab-badge.svg\" alt=\"Open In Colab\"/></a>"
      ]
    },
    {
      "cell_type": "code",
      "execution_count": 3,
      "metadata": {
        "id": "AnKZDG_Mg4t5"
      },
      "outputs": [],
      "source": [
        "# Deep Learning Frameworks\n",
        "import tensorflow as tf  # For model building and training\n",
        "from tensorflow import keras  # High-level API for TensorFlow\n",
        "import torch  # PyTorch, another popular deep learning library\n",
        "\n",
        "# Computer Vision Libraries\n",
        "import cv2  # OpenCV for image processing\n",
        "from PIL import Image  # Python Imaging Library for image operations\n",
        "\n",
        "# Model Architectures\n",
        "from torchvision import models  # Pre-built models in PyTorch\n",
        "from keras.applications import EfficientNetB0  # Pre-built models in Keras\n",
        "\n",
        "# Data Handling and Visualization\n",
        "import numpy as np  # For numerical operations\n",
        "import pandas as pd  # For data manipulation\n",
        "import matplotlib.pyplot as plt  # For plotting and visualization\n",
        "\n",
        "# Machine Learning Utilities\n",
        "from sklearn.model_selection import train_test_split  # For splitting the dataset\n",
        "\n",
        "# Deep Learning Utilities\n",
        "from keras.preprocessing.image import ImageDataGenerator  # For data augmentation\n",
        "from keras.utils import to_categorical  # For one-hot encoding of labels\n",
        "\n",
        "# Model Training and Evaluation\n",
        "from keras.optimizers import Adam  # Optimizer for training\n",
        "from keras.losses import categorical_crossentropy  # Loss function for multi-class classification\n",
        "from keras.metrics import Precision, Recall  # Evaluation metrics"
      ]
    },
    {
      "cell_type": "code",
      "source": [
        "%tensorflow_version 2.x"
      ],
      "metadata": {
        "id": "9a-yPaKPp1MH",
        "outputId": "c3a0da4f-7a54-4865-d85e-572ff3880495",
        "colab": {
          "base_uri": "https://localhost:8080/"
        }
      },
      "execution_count": 2,
      "outputs": [
        {
          "output_type": "stream",
          "name": "stdout",
          "text": [
            "Colab only includes TensorFlow 2.x; %tensorflow_version has no effect.\n"
          ]
        }
      ]
    },
    {
      "cell_type": "code",
      "source": [
        "!nvidia-smi"
      ],
      "metadata": {
        "id": "Tb2-Q_-gqkwB",
        "outputId": "69f5e1d1-10e5-48cf-eb92-e6ea76f60bfc",
        "colab": {
          "base_uri": "https://localhost:8080/"
        }
      },
      "execution_count": 4,
      "outputs": [
        {
          "output_type": "stream",
          "name": "stdout",
          "text": [
            "/bin/bash: line 1: nvidia-smi: command not found\n"
          ]
        }
      ]
    }
  ]
}